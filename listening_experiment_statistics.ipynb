{
 "cells": [
  {
   "cell_type": "code",
   "execution_count": 14,
   "id": "f04e2c94",
   "metadata": {},
   "outputs": [],
   "source": [
    "%matplotlib inline\n",
    "import numpy as np\n",
    "import pandas\n",
    "import matplotlib.pyplot as plt"
   ]
  },
  {
   "cell_type": "markdown",
   "id": "3eac65ed",
   "metadata": {},
   "source": [
    "# Gold-MSI"
   ]
  },
  {
   "cell_type": "code",
   "execution_count": 15,
   "id": "b7b0290b",
   "metadata": {},
   "outputs": [
    {
     "data": {
      "text/plain": [
       "{'MS01_01': (5.470588235294118, 1.8139039880926917, 6.0),\n",
       " 'MS02_01': (5.607843137254902, 2.030151971617833, 7.0),\n",
       " 'MS03_01': (5.287581699346405, 2.264349571459352, 7.0),\n",
       " 'MS04_01': (5.61437908496732, 2.0459336531871926, 7.0),\n",
       " 'MS05_01': (5.313725490196078, 1.786169778263023, 6.0)}"
      ]
     },
     "execution_count": 15,
     "metadata": {},
     "output_type": "execute_result"
    },
    {
     "data": {
      "image/png": "[encoded data removed]",
      "text/plain": [
       "<Figure size 640x480 with 6 Axes>"
      ]
     },
     "metadata": {},
     "output_type": "display_data"
    }
   ],
   "source": [
    "fn = \"data/data_listening_experiment.csv\"\n",
    "\n",
    "data = pandas.read_csv(fn, \n",
    "                       delimiter=\",\",\n",
    "                       engine='c', encoding='utf16')\n",
    "data= data.dropna(subset=['SERIAL'])\n",
    "data.set_index('CASE', inplace=True)\n",
    "\n",
    "msi_columns = ['MS01_01', 'MS02_01', 'MS03_01', 'MS04_01', 'MS05_01']\n",
    "valid_idxs = [set(np.where(data[c] > 0)[0]) for c in msi_columns]\n",
    "valid_idxs = list(valid_idxs[0].intersection(*valid_idxs[1:]))\n",
    "# print(len(valid_idxs))\n",
    "\n",
    "fig, axes = plt.subplots(2, 3, sharey=True)\n",
    "\n",
    "msi_stats = dict()\n",
    "for i, col in enumerate(msi_columns):\n",
    "    \n",
    "    vals = data.iloc[list(valid_idxs)][col]\n",
    "    msi_stats[col] = (vals.mean(), vals.std(), vals.median())\n",
    "    axes[i // 3, i % 3].hist(data.iloc[list(valid_idxs)][col])\n",
    "    axes[i // 3, i % 3].set_title(col)\n",
    "\n",
    "plt.tight_layout()\n",
    "msi_stats"
   ]
  },
  {
   "cell_type": "markdown",
   "id": "c8d0ef22",
   "metadata": {},
   "source": [
    "# Comparisons"
   ]
  },
  {
   "cell_type": "code",
   "execution_count": 16,
   "id": "2d00cf6a",
   "metadata": {},
   "outputs": [],
   "source": [
    "import re\n",
    "from collections import defaultdict\n",
    "fn_ptt = re.compile(r'MP3_(.+)_normalized/(.+)_segment_([0-9]+)_([0-9]+)(.*)/(.+)_p([0-9]+).match.mp3')\n",
    "pr_ptt = re.compile(r'_([a-z]+)_([0-9]+)')\n",
    "#https://silter.gitlab.io/performance/audio/MP3_4x22_normalized/Chopin_op10_no3_segment_0_6/Chopin_op10_no3_p01.match.mp3\n",
    "#https://silter.gitlab.io/performance/audio/MP3_OUT_normalized/Chopin_op10_no3_segment_0_6_velocity_90/Chopin_op10_no3_p05.match.mp3\n",
    "\n",
    "\n",
    "def parse_filename(fn, param = 'param'):\n",
    "    g = fn_ptt.search(str(fn))\n",
    "    if g is not None:\n",
    "        ds, piece, ss, se, par, pz, seg = g.groups()\n",
    "        if par != '':\n",
    "            pr, rr = pr_ptt.search(par).groups()\n",
    "        else:\n",
    "            pr = param\n",
    "            rr = 'original'\n",
    "        return ds, piece, ss, se, pr, rr\n",
    "    else:\n",
    "        return [None]*6\n",
    "\n",
    "params = ['A', 'I', 'T', 'V']\n",
    "questions = ['10', '20', '30', '40']\n",
    "piece_per_params = {'A':[\"Mozart_k331_segment_8_8\",'Schubert_D783_no15_segment_0_9'], \n",
    "                    'I':['Chopin_op38_segment_33_12', 'Schubert_D783_no15_segment_17_8'], # timing\n",
    "                    'T':['Chopin_op38_segment_33_13', 'Schubert_D783_no15_segment_0_9'], # tempo\n",
    "                    'V':['Chopin_op10_no3_segment_0_6', 'Schubert_D783_no15_segment_17_8' ] }\n",
    "feature_per_params = {'A':\"Articulation\", \n",
    "                    'I':\"Timing\", # timing\n",
    "                    'T':\"Tempo\", # tempo\n",
    "                    'V':\"Velocity\"}\n",
    "\n",
    "Info = defaultdict(dict)\n",
    "for pp in params:\n",
    "    for level in [50, 90]:\n",
    "        Info[pp][level] = {\n",
    "                            \"number_answers\": 0,\n",
    "                            \"number_dontknow\": 0,\n",
    "                            \"number_correct\":0,\n",
    "                              }\n",
    "        for piece in piece_per_params[pp]:\n",
    "            Info[pp][level][piece] = {\n",
    "                            \"number_answers\": 0,\n",
    "                            \"number_dontknow\": 0,\n",
    "                            \"number_correct\":0,\n",
    "                              }\n",
    "\n",
    "for pp in params:\n",
    "    for qq in questions:\n",
    "        q = pp + qq\n",
    "        # print(q)\n",
    "        for e1, e2, r, true_r in zip(data[q + '2_01'].values, \n",
    "                         data[q + '2_02'].values, \n",
    "                         data[q + '1'].values,\n",
    "                         data[q + '2_03'].values):\n",
    "    \n",
    "            \n",
    "            # print( r, true_r)\n",
    "            # OUT or 4x22, rr = \"original\" or \"param\"\n",
    "            ds1, piece1, ss1, se1, _, rr1 = parse_filename(e1)\n",
    "            ds2, piece2, ss2, se2, _, rr2 = parse_filename(e2)\n",
    "            \n",
    "            if ds1 is None or ds2 is None:\n",
    "                pass\n",
    "            else:\n",
    "                try:\n",
    "                    # index of original perf\n",
    "                    rp_idx = [ds1, ds2].index('4x22')\n",
    "\n",
    "                    rra = np.array([rr1, rr2])\n",
    "                    noise_level = int(rra[np.where(rra != 'original')])\n",
    "                    crr = (r - 1) == rp_idx\n",
    "                    piece_name = \"_\".join([piece1, \"segment\", ss1, se1])\n",
    "                    piece_name2 = \"_\".join([piece2, \"segment\", ss2, se2])\n",
    "\n",
    "                    if crr: \n",
    "                        Info[pp][noise_level][\"number_correct\"] += 1\n",
    "                        Info[pp][noise_level][piece_name][\"number_correct\"] += 1\n",
    "                    elif r == -9:\n",
    "                        Info[pp][noise_level][\"number_dontknow\"] += 1\n",
    "                        Info[pp][noise_level][piece_name][\"number_dontknow\"] += 1\n",
    "\n",
    "                    Info[pp][noise_level][\"number_answers\"] += 1\n",
    "                    Info[pp][noise_level][piece_name][\"number_answers\"] += 1\n",
    "                    \n",
    "                except:\n",
    "                    pass"
   ]
  },
  {
   "cell_type": "code",
   "execution_count": 17,
   "id": "b497f29e",
   "metadata": {},
   "outputs": [
    {
     "data": {
      "text/plain": [
       "defaultdict(dict,\n",
       "            {'A': {50: {'number_answers': 240,\n",
       "               'number_dontknow': 4,\n",
       "               'number_correct': 148,\n",
       "               'Mozart_k331_segment_8_8': {'number_answers': 113,\n",
       "                'number_dontknow': 1,\n",
       "                'number_correct': 78},\n",
       "               'Schubert_D783_no15_segment_0_9': {'number_answers': 127,\n",
       "                'number_dontknow': 3,\n",
       "                'number_correct': 70}},\n",
       "              90: {'number_answers': 185,\n",
       "               'number_dontknow': 0,\n",
       "               'number_correct': 139,\n",
       "               'Mozart_k331_segment_8_8': {'number_answers': 105,\n",
       "                'number_dontknow': 0,\n",
       "                'number_correct': 75},\n",
       "               'Schubert_D783_no15_segment_0_9': {'number_answers': 80,\n",
       "                'number_dontknow': 0,\n",
       "                'number_correct': 64}}},\n",
       "             'I': {50: {'number_answers': 215,\n",
       "               'number_dontknow': 1,\n",
       "               'number_correct': 126,\n",
       "               'Chopin_op38_segment_33_12': {'number_answers': 110,\n",
       "                'number_dontknow': 1,\n",
       "                'number_correct': 66},\n",
       "               'Schubert_D783_no15_segment_17_8': {'number_answers': 105,\n",
       "                'number_dontknow': 0,\n",
       "                'number_correct': 60}},\n",
       "              90: {'number_answers': 235,\n",
       "               'number_dontknow': 0,\n",
       "               'number_correct': 129,\n",
       "               'Chopin_op38_segment_33_12': {'number_answers': 119,\n",
       "                'number_dontknow': 0,\n",
       "                'number_correct': 70},\n",
       "               'Schubert_D783_no15_segment_17_8': {'number_answers': 116,\n",
       "                'number_dontknow': 0,\n",
       "                'number_correct': 59}}},\n",
       "             'T': {50: {'number_answers': 215,\n",
       "               'number_dontknow': 1,\n",
       "               'number_correct': 147,\n",
       "               'Chopin_op38_segment_33_13': {'number_answers': 106,\n",
       "                'number_dontknow': 1,\n",
       "                'number_correct': 74},\n",
       "               'Schubert_D783_no15_segment_0_9': {'number_answers': 109,\n",
       "                'number_dontknow': 0,\n",
       "                'number_correct': 73}},\n",
       "              90: {'number_answers': 234,\n",
       "               'number_dontknow': 0,\n",
       "               'number_correct': 183,\n",
       "               'Chopin_op38_segment_33_13': {'number_answers': 113,\n",
       "                'number_dontknow': 0,\n",
       "                'number_correct': 88},\n",
       "               'Schubert_D783_no15_segment_0_9': {'number_answers': 121,\n",
       "                'number_dontknow': 0,\n",
       "                'number_correct': 95}}},\n",
       "             'V': {50: {'number_answers': 238,\n",
       "               'number_dontknow': 0,\n",
       "               'number_correct': 125,\n",
       "               'Chopin_op10_no3_segment_0_6': {'number_answers': 118,\n",
       "                'number_dontknow': 0,\n",
       "                'number_correct': 63},\n",
       "               'Schubert_D783_no15_segment_17_8': {'number_answers': 120,\n",
       "                'number_dontknow': 0,\n",
       "                'number_correct': 62}},\n",
       "              90: {'number_answers': 213,\n",
       "               'number_dontknow': 0,\n",
       "               'number_correct': 109,\n",
       "               'Chopin_op10_no3_segment_0_6': {'number_answers': 107,\n",
       "                'number_dontknow': 0,\n",
       "                'number_correct': 61},\n",
       "               'Schubert_D783_no15_segment_17_8': {'number_answers': 106,\n",
       "                'number_dontknow': 0,\n",
       "                'number_correct': 48}}}})"
      ]
     },
     "execution_count": 17,
     "metadata": {},
     "output_type": "execute_result"
    }
   ],
   "source": [
    "# the aggregated dictionary of ratings\n",
    "Info"
   ]
  },
  {
   "cell_type": "code",
   "execution_count": 18,
   "id": "68593bf8",
   "metadata": {},
   "outputs": [
    {
     "name": "stdout",
     "output_type": "stream",
     "text": [
      "A 50 61.66666666666667 7.240838368161038e-05\n",
      "A 90 75.13513513513513 1.5887705651687706e-12\n",
      "I 50 58.6046511627907 0.0022498005395798592\n",
      "I 90 54.8936170212766 0.01692125395682095\n",
      "T 50 68.37209302325581 2.0567032158141917e-08\n",
      "T 90 78.2051282051282 4.371373179772825e-19\n",
      "V 50 52.52100840336135 0.03822149299635741\n",
      "V 90 51.173708920187785 0.05150753119092247\n"
     ]
    }
   ],
   "source": [
    "from scipy.stats import binom\n",
    "\n",
    "def binomial_exact_test(values):\n",
    "    k = sum(values)\n",
    "    n = len(values)\n",
    "    return binom.pmf(k=k, n=n, p=0.5)\n",
    "        \n",
    "        \n",
    "for pr, cases in Info.items():\n",
    "    for rr, vals in cases.items():\n",
    "        print(pr, rr, vals['number_correct']/vals['number_answers']* 100, \n",
    "              binom.pmf(k=vals['number_correct'], n=vals['number_answers'], p=0.5))"
   ]
  },
  {
   "cell_type": "code",
   "execution_count": null,
   "id": "3a228cab",
   "metadata": {},
   "outputs": [],
   "source": []
  }
 ],
 "metadata": {
  "kernelspec": {
   "display_name": "Python 3 (ipykernel)",
   "language": "python",
   "name": "python3"
  },
  "language_info": {
   "codemirror_mode": {
    "name": "ipython",
    "version": 3
   },
   "file_extension": ".py",
   "mimetype": "text/x-python",
   "name": "python",
   "nbconvert_exporter": "python",
   "pygments_lexer": "ipython3",
   "version": "3.9.16"
  }
 },
 "nbformat": 4,
 "nbformat_minor": 5
}
